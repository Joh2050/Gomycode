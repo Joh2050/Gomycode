{
 "cells": [
  {
   "cell_type": "code",
   "execution_count": 1,
   "id": "a84a1084",
   "metadata": {},
   "outputs": [
    {
     "name": "stdout",
     "output_type": "stream",
     "text": [
      "Your Guessed Number From 1 To 100 Is 50\n",
      "Your Guessing Is High\n",
      "4 Tries Left!\n",
      "Your Guessed Number From 1 To 100 Is 25\n",
      "Your Guessing Is High\n",
      "3 Tries Left!\n",
      "Your Guessed Number From 1 To 100 Is 15\n",
      "Your Guessing Is Low\n",
      "2 Tries Left!\n",
      "Your Guessed Number From 1 To 100 Is 20\n",
      "Your Guessing Is High\n",
      "1 Tries Left!\n",
      "Your Guessed Number From 1 To 100 Is 17\n",
      "Your Guessing Is Low\n",
      "0 Tries Left!\n",
      "You Are A Losser!!!\n"
     ]
    }
   ],
   "source": [
    "import random\n",
    "k = random.randint(1,101) #Builtin Function To Get A Random Int In Range\n",
    "x = 0                     #A Choosed Number By The User\n",
    "a = 1                     #Tries Counter\n",
    "b = 6                     #The Maximum Number Of Tries == b-1 (End Not Included!)\n",
    "while x != k and a < b :\n",
    "    a += 1\n",
    "    x = int(input(\"Your Guessed Number From 1 To 100 Is \"))\n",
    "    if x < k :\n",
    "        print(\"Your Guessing Is Low\")\n",
    "        print(f\"{b-a} Tries Left!\")\n",
    "    elif x > k :\n",
    "        print(\"Your Guessing Is High\")\n",
    "        print(f\"{b-a} Tries Left!\")\n",
    "    elif x == k :\n",
    "        print(\"Your Guessing Is Correct!\")\n",
    "if x == k :\n",
    "    print(\"You Are The Boss!!!\")\n",
    "else :\n",
    "    print(\"You Are A Losser!!!\")"
   ]
  },
  {
   "cell_type": "code",
   "execution_count": null,
   "id": "a5fd4068",
   "metadata": {},
   "outputs": [],
   "source": []
  }
 ],
 "metadata": {
  "kernelspec": {
   "display_name": "Python 3 (ipykernel)",
   "language": "python",
   "name": "python3"
  },
  "language_info": {
   "codemirror_mode": {
    "name": "ipython",
    "version": 3
   },
   "file_extension": ".py",
   "mimetype": "text/x-python",
   "name": "python",
   "nbconvert_exporter": "python",
   "pygments_lexer": "ipython3",
   "version": "3.9.13"
  }
 },
 "nbformat": 4,
 "nbformat_minor": 5
}
